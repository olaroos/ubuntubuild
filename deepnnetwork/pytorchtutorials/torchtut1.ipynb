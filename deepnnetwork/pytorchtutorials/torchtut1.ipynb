{
 "cells": [
  {
   "cell_type": "code",
   "execution_count": 4,
   "metadata": {},
   "outputs": [],
   "source": [
    "## pytorch tutorial #! \n",
    "from IPython.core.interactiveshell import InteractiveShell\n",
    "InteractiveShell.ast_node_interactivity = \"all\""
   ]
  },
  {
   "cell_type": "code",
   "execution_count": 5,
   "metadata": {},
   "outputs": [],
   "source": [
    "from __future__ import print_function\n",
    "import torch"
   ]
  },
  {
   "cell_type": "code",
   "execution_count": 6,
   "metadata": {},
   "outputs": [
    {
     "name": "stdout",
     "output_type": "stream",
     "text": [
      "tensor([[1.6189e-37, 0.0000e+00, 6.0256e-44],\n",
      "        [0.0000e+00,        nan, 0.0000e+00],\n",
      "        [1.8617e+25, 1.3342e+31, 7.1103e-04],\n",
      "        [1.8319e+25, 5.0834e+31, 3.2605e-12],\n",
      "        [7.5555e+31, 7.0736e+31, 1.8037e+28]])\n"
     ]
    }
   ],
   "source": [
    "x = torch.empty(5, 3)\n",
    "print(x)"
   ]
  },
  {
   "cell_type": "code",
   "execution_count": 7,
   "metadata": {},
   "outputs": [
    {
     "name": "stdout",
     "output_type": "stream",
     "text": [
      "tensor([5, 3])\n"
     ]
    }
   ],
   "source": [
    "x = torch.tensor([5, 3])\n",
    "print(x)"
   ]
  },
  {
   "cell_type": "code",
   "execution_count": 8,
   "metadata": {},
   "outputs": [
    {
     "name": "stdout",
     "output_type": "stream",
     "text": [
      "tensor([[1., 1., 1.],\n",
      "        [1., 1., 1.],\n",
      "        [1., 1., 1.],\n",
      "        [1., 1., 1.],\n",
      "        [1., 1., 1.]], dtype=torch.float64)\n",
      "tensor([[ 0.3907, -0.0340, -0.0068],\n",
      "        [-2.0205,  0.1402,  0.1078],\n",
      "        [-1.5552,  1.1430, -0.6581],\n",
      "        [ 0.7724,  0.4268, -0.2739],\n",
      "        [-1.5204,  1.0201, -0.7330]])\n"
     ]
    }
   ],
   "source": [
    "x = x.new_ones(5, 3, dtype=torch.double)\n",
    "print(x)\n",
    "\n",
    "x=torch.randn_like(x, dtype=torch.float)\n",
    "print(x)"
   ]
  },
  {
   "cell_type": "code",
   "execution_count": 9,
   "metadata": {},
   "outputs": [
    {
     "name": "stdout",
     "output_type": "stream",
     "text": [
      "tensor([[ 0.7342,  0.2436,  0.6171],\n",
      "        [-1.7266,  0.5524,  0.3546],\n",
      "        [-1.1419,  1.7268, -0.0031],\n",
      "        [ 0.9584,  1.2754,  0.2105],\n",
      "        [-0.5752,  1.8431, -0.2206]])\n"
     ]
    }
   ],
   "source": [
    "y = torch.rand(5, 3)\n",
    "print(x + y)"
   ]
  },
  {
   "cell_type": "code",
   "execution_count": 10,
   "metadata": {},
   "outputs": [
    {
     "name": "stdout",
     "output_type": "stream",
     "text": [
      "tensor([[ 0.7342,  0.2436,  0.6171],\n",
      "        [-1.7266,  0.5524,  0.3546],\n",
      "        [-1.1419,  1.7268, -0.0031],\n",
      "        [ 0.9584,  1.2754,  0.2105],\n",
      "        [-0.5752,  1.8431, -0.2206]])\n"
     ]
    }
   ],
   "source": [
    "print(torch.add(x, y))"
   ]
  },
  {
   "cell_type": "code",
   "execution_count": 11,
   "metadata": {},
   "outputs": [
    {
     "name": "stdout",
     "output_type": "stream",
     "text": [
      "tensor([[1.5604e-37, 0.0000e+00, 0.0000e+00],\n",
      "        [0.0000e+00, 0.0000e+00, 0.0000e+00],\n",
      "        [0.0000e+00, 0.0000e+00, 0.0000e+00],\n",
      "        [0.0000e+00, 0.0000e+00, 0.0000e+00]])\n"
     ]
    },
    {
     "data": {
      "text/plain": [
       "tensor([[ 0.7342,  0.2436,  0.6171],\n",
       "        [-1.7266,  0.5524,  0.3546],\n",
       "        [-1.1419,  1.7268, -0.0031],\n",
       "        [ 0.9584,  1.2754,  0.2105],\n",
       "        [-0.5752,  1.8431, -0.2206]])"
      ]
     },
     "execution_count": 11,
     "metadata": {},
     "output_type": "execute_result"
    },
    {
     "name": "stdout",
     "output_type": "stream",
     "text": [
      "tensor([[ 0.7342,  0.2436,  0.6171],\n",
      "        [-1.7266,  0.5524,  0.3546],\n",
      "        [-1.1419,  1.7268, -0.0031],\n",
      "        [ 0.9584,  1.2754,  0.2105],\n",
      "        [-0.5752,  1.8431, -0.2206]])\n"
     ]
    }
   ],
   "source": [
    "result = torch.empty(4, 3)\n",
    "print(result)\n",
    "torch.add(x, y, out=result)\n",
    "print(result)\n",
    "# addition will change result "
   ]
  },
  {
   "cell_type": "code",
   "execution_count": 12,
   "metadata": {},
   "outputs": [
    {
     "name": "stdout",
     "output_type": "stream",
     "text": [
      "torch.Size([4, 4]) torch.Size([16]) torch.Size([2, 8])\n"
     ]
    }
   ],
   "source": [
    "x = torch.randn(4, 4)\n",
    "y = x.view(16)\n",
    "z = x.view(-1, 8)\n",
    "print(x.size(), y.size(), z.size())"
   ]
  },
  {
   "cell_type": "code",
   "execution_count": 13,
   "metadata": {},
   "outputs": [
    {
     "name": "stdout",
     "output_type": "stream",
     "text": [
      "tensor([1., 1., 1., 1., 1.])\n"
     ]
    }
   ],
   "source": [
    "a = torch.ones(5)\n",
    "print(a)"
   ]
  },
  {
   "cell_type": "code",
   "execution_count": 14,
   "metadata": {},
   "outputs": [
    {
     "name": "stdout",
     "output_type": "stream",
     "text": [
      "[1. 1. 1. 1. 1.]\n"
     ]
    }
   ],
   "source": [
    "b = a.numpy()\n",
    "print(b)"
   ]
  },
  {
   "cell_type": "code",
   "execution_count": 15,
   "metadata": {},
   "outputs": [
    {
     "name": "stdout",
     "output_type": "stream",
     "text": [
      "tensor([[ 1.3612, -0.8975,  1.4291,  1.0989],\n",
      "        [ 1.3444, -0.2823,  0.8402,  1.4723],\n",
      "        [ 0.3635,  0.1028,  0.7017,  1.8582],\n",
      "        [ 1.0877,  0.3051, -0.3926,  1.2543]], device='cuda:0')\n",
      "tensor([[ 1.3612, -0.8975,  1.4291,  1.0989],\n",
      "        [ 1.3444, -0.2823,  0.8402,  1.4723],\n",
      "        [ 0.3635,  0.1028,  0.7017,  1.8582],\n",
      "        [ 1.0877,  0.3051, -0.3926,  1.2543]], dtype=torch.float64)\n"
     ]
    }
   ],
   "source": [
    "if torch.cuda.is_available():\n",
    "    device = torch.device(\"cuda\")\n",
    "    y = torch.ones_like(x, device=device)\n",
    "    x = x.to(device)\n",
    "    z = x + y \n",
    "    print(z)\n",
    "    print(z.to(\"cpu\", torch.double))"
   ]
  },
  {
   "cell_type": "code",
   "execution_count": null,
   "metadata": {},
   "outputs": [],
   "source": []
  }
 ],
 "metadata": {
  "kernelspec": {
   "display_name": "Python 3",
   "language": "python",
   "name": "python3"
  },
  "language_info": {
   "codemirror_mode": {
    "name": "ipython",
    "version": 3
   },
   "file_extension": ".py",
   "mimetype": "text/x-python",
   "name": "python",
   "nbconvert_exporter": "python",
   "pygments_lexer": "ipython3",
   "version": "3.6.7"
  }
 },
 "nbformat": 4,
 "nbformat_minor": 2
}
