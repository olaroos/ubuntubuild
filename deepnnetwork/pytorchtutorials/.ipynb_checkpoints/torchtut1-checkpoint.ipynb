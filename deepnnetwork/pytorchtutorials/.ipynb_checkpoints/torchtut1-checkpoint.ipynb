{
 "cells": [
  {
   "cell_type": "code",
   "execution_count": 4,
   "metadata": {},
   "outputs": [],
   "source": [
    "## pytorch tutorial #! "
   ]
  },
  {
   "cell_type": "code",
   "execution_count": 5,
   "metadata": {},
   "outputs": [],
   "source": [
    "from __future__ import print_function\n",
    "import torch"
   ]
  },
  {
   "cell_type": "code",
   "execution_count": 7,
   "metadata": {},
   "outputs": [
    {
     "name": "stdout",
     "output_type": "stream",
     "text": [
      "tensor([[ 1.8701e-37,  0.0000e+00, -9.5013e-07],\n",
      "        [ 4.5632e-41,  3.0308e+24,  6.1207e-04],\n",
      "        [ 4.8419e+30,  1.7256e+25,  3.1766e+30],\n",
      "        [ 1.7035e+25,  1.9346e-19,  1.2414e+28],\n",
      "        [ 1.1728e-19,  4.9556e+28,  8.9070e-15]])\n"
     ]
    }
   ],
   "source": [
    "x = torch.empty(5, 3)\n",
    "print(x)"
   ]
  },
  {
   "cell_type": "code",
   "execution_count": 13,
   "metadata": {},
   "outputs": [
    {
     "name": "stdout",
     "output_type": "stream",
     "text": [
      "tensor([5, 3])\n"
     ]
    }
   ],
   "source": [
    "x = torch.tensor([5, 3])\n",
    "print(x)"
   ]
  },
  {
   "cell_type": "code",
   "execution_count": 15,
   "metadata": {},
   "outputs": [
    {
     "name": "stdout",
     "output_type": "stream",
     "text": [
      "tensor([[1., 1., 1.],\n",
      "        [1., 1., 1.],\n",
      "        [1., 1., 1.],\n",
      "        [1., 1., 1.],\n",
      "        [1., 1., 1.]], dtype=torch.float64)\n",
      "tensor([[-0.9772, -0.1039, -0.9524],\n",
      "        [-1.3371, -1.4363,  1.1890],\n",
      "        [-0.0717,  0.3558,  0.4727],\n",
      "        [ 1.4929, -0.2246,  1.1191],\n",
      "        [-1.0074,  0.5565,  0.0381]])\n"
     ]
    }
   ],
   "source": [
    "x = x.new_ones(5, 3, dtype=torch.double)\n",
    "print(x)\n",
    "\n",
    "x=torch.randn_like(x, dtype=torch.float)\n",
    "print(x)"
   ]
  },
  {
   "cell_type": "code",
   "execution_count": 16,
   "metadata": {},
   "outputs": [
    {
     "name": "stdout",
     "output_type": "stream",
     "text": [
      "tensor([[-0.5457,  0.8472, -0.1116],\n",
      "        [-0.5991, -1.0924,  1.9352],\n",
      "        [ 0.3354,  0.7960,  0.4732],\n",
      "        [ 1.8179,  0.1840,  1.2719],\n",
      "        [-0.3091,  1.4773,  0.6411]])\n"
     ]
    }
   ],
   "source": [
    "y = torch.rand(5, 3)\n",
    "print(x + y)"
   ]
  },
  {
   "cell_type": "code",
   "execution_count": 17,
   "metadata": {},
   "outputs": [
    {
     "name": "stdout",
     "output_type": "stream",
     "text": [
      "tensor([[-0.5457,  0.8472, -0.1116],\n",
      "        [-0.5991, -1.0924,  1.9352],\n",
      "        [ 0.3354,  0.7960,  0.4732],\n",
      "        [ 1.8179,  0.1840,  1.2719],\n",
      "        [-0.3091,  1.4773,  0.6411]])\n"
     ]
    }
   ],
   "source": [
    "print(torch.add(x, y))"
   ]
  },
  {
   "cell_type": "code",
   "execution_count": 23,
   "metadata": {},
   "outputs": [
    {
     "name": "stdout",
     "output_type": "stream",
     "text": [
      "tensor([[1.8485e-37, 0.0000e+00, 0.0000e+00],\n",
      "        [0.0000e+00, 0.0000e+00, 0.0000e+00],\n",
      "        [0.0000e+00, 0.0000e+00, 0.0000e+00],\n",
      "        [0.0000e+00, 0.0000e+00, 0.0000e+00]])\n",
      "tensor([[-0.5457,  0.8472, -0.1116],\n",
      "        [-0.5991, -1.0924,  1.9352],\n",
      "        [ 0.3354,  0.7960,  0.4732],\n",
      "        [ 1.8179,  0.1840,  1.2719],\n",
      "        [-0.3091,  1.4773,  0.6411]])\n"
     ]
    }
   ],
   "source": [
    "result = torch.empty(4, 3)\n",
    "print(result)\n",
    "torch.add(x, y, out=result)\n",
    "print(result)\n",
    "# addition will change result "
   ]
  },
  {
   "cell_type": "code",
   "execution_count": 34,
   "metadata": {},
   "outputs": [
    {
     "name": "stdout",
     "output_type": "stream",
     "text": [
      "torch.Size([4, 4]) torch.Size([16]) torch.Size([2, 8])\n"
     ]
    }
   ],
   "source": [
    "x = torch.randn(4, 4)\n",
    "y = x.view(16)\n",
    "z = x.view(-1, 8)\n",
    "print(x.size(), y.size(), z.size())"
   ]
  },
  {
   "cell_type": "code",
   "execution_count": 37,
   "metadata": {},
   "outputs": [
    {
     "name": "stdout",
     "output_type": "stream",
     "text": [
      "tensor([ 0.1145, -0.3287,  0.4901,  0.9092, -0.3373,  0.2845,  0.7713,  0.1526,\n",
      "         1.5578,  0.4834,  0.8236, -1.1472,  0.3761, -0.5803,  0.6792, -0.9697])\n"
     ]
    }
   ],
   "source": [
    "print(x.view(16))"
   ]
  },
  {
   "cell_type": "code",
   "execution_count": null,
   "metadata": {},
   "outputs": [],
   "source": []
  }
 ],
 "metadata": {
  "kernelspec": {
   "display_name": "Python 3",
   "language": "python",
   "name": "python3"
  },
  "language_info": {
   "codemirror_mode": {
    "name": "ipython",
    "version": 3
   },
   "file_extension": ".py",
   "mimetype": "text/x-python",
   "name": "python",
   "nbconvert_exporter": "python",
   "pygments_lexer": "ipython3",
   "version": "3.6.7"
  }
 },
 "nbformat": 4,
 "nbformat_minor": 2
}
